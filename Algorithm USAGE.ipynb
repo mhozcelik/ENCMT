{
 "cells": [
  {
   "cell_type": "code",
   "execution_count": 1,
   "id": "d03ab5df",
   "metadata": {},
   "outputs": [],
   "source": [
    "import warnings\n",
    "import numpy as np\n",
    "import pandas as pd\n",
    "from sklearn.datasets import make_classification\n",
    "from sklearn.model_selection import train_test_split\n",
    "from sklearn.metrics import confusion_matrix, roc_curve, auc, roc_auc_score\n",
    "\n",
    "from ENCClassifier3 import ENCClassifier\n",
    "from ENCModelTreeClassifier3 import ENCModelTreeClassifier\n",
    "from RFwENCMTClassifier3 import RFwENCMTClassifier"
   ]
  },
  {
   "cell_type": "code",
   "execution_count": 2,
   "id": "e56bb972-724d-4c3e-ae1d-442193a1add5",
   "metadata": {},
   "outputs": [],
   "source": [
    "warnings.filterwarnings(\"ignore\")"
   ]
  },
  {
   "cell_type": "code",
   "execution_count": 3,
   "id": "94ea591d",
   "metadata": {},
   "outputs": [],
   "source": [
    "X, y = make_classification(n_samples=2000,n_features=20,n_informative=10,random_state=42)\n",
    "df = pd.merge(pd.DataFrame(X),pd.DataFrame(y),left_index=True,right_index=True)\n",
    "X_train, X_test, y_train, y_test = train_test_split(X,y,test_size=0.3,random_state=42,stratify=y)"
   ]
  },
  {
   "cell_type": "code",
   "execution_count": 4,
   "id": "a19a283b-4aba-411c-95a9-70aa74bbd925",
   "metadata": {},
   "outputs": [],
   "source": [
    "def MP(Model, X, y):\n",
    "    My_scores = Model.predict_proba(X)\n",
    "    My_predictions = Model.predict(X)\n",
    "    TN, FP, FN, TP = confusion_matrix(y, My_predictions, labels=[0, 1]).ravel()\n",
    "    accuracy    = (TP+TN)/(TP+TN+FP+FN)\n",
    "    sensitivity = TP / (TP+FN)\n",
    "    specifity   = TN / (TN+FP)\n",
    "    if My_scores.shape[1]==2:\n",
    "        fpr, tpr, thresholds = roc_curve(y, My_scores[:,1])\n",
    "    else:\n",
    "        fpr, tpr, thresholds = roc_curve(y, My_scores)\n",
    "    AUC = roc_auc_score(y,My_predictions)\n",
    "    return AUC, accuracy, sensitivity, specifity"
   ]
  },
  {
   "cell_type": "code",
   "execution_count": 5,
   "id": "9101a7bf-57e9-4768-96e7-4cb0e64776c8",
   "metadata": {},
   "outputs": [
    {
     "name": "stdout",
     "output_type": "stream",
     "text": [
      "(0.5, 0.5016666666666667, 1.0, 0.0)\n"
     ]
    }
   ],
   "source": [
    "# ENC Classifier\n",
    "My_model = ENCClassifier()\n",
    "My_model.fit(X_train,y_train)\n",
    "print(MP(My_model,X_test,y_test))"
   ]
  },
  {
   "cell_type": "code",
   "execution_count": 6,
   "id": "02fbc682-2273-40e9-abab-fb021db5062e",
   "metadata": {},
   "outputs": [
    {
     "name": "stdout",
     "output_type": "stream",
     "text": [
      "(0.8002200024444717, 0.8, 0.7342192691029901, 0.8662207357859532)\n",
      "CPU times: total: 2.94 s\n",
      "Wall time: 2.56 s\n"
     ]
    }
   ],
   "source": [
    "%%time\n",
    "# ENC Model Tree Classifier\n",
    "My_model = ENCModelTreeClassifier(random_state=42)\n",
    "My_model.fit(X_train,y_train)\n",
    "print(MP(My_model,X_test,y_test))"
   ]
  },
  {
   "cell_type": "code",
   "execution_count": 7,
   "id": "6dac4303-60ed-4a94-9168-022e48192e35",
   "metadata": {},
   "outputs": [
    {
     "name": "stdout",
     "output_type": "stream",
     "text": [
      "(0.8933543706041177, 0.8933333333333333, 0.8870431893687708, 0.8996655518394648)\n",
      "CPU times: total: 25.9 s\n",
      "Wall time: 26.2 s\n"
     ]
    }
   ],
   "source": [
    "%%time\n",
    "# RF w ENCMT Classifier\n",
    "My_model = RFwENCMTClassifier()\n",
    "My_model.fit(X_train,y_train)\n",
    "print(MP(My_model,X_test,y_test))"
   ]
  },
  {
   "cell_type": "code",
   "execution_count": null,
   "id": "95c52ac5-86c3-4218-a158-604619574d59",
   "metadata": {},
   "outputs": [],
   "source": []
  },
  {
   "cell_type": "code",
   "execution_count": null,
   "id": "d47e4441-d003-4476-b523-794afa7bfcbf",
   "metadata": {},
   "outputs": [],
   "source": []
  }
 ],
 "metadata": {
  "kernelspec": {
   "display_name": "Python 3 (ipykernel)",
   "language": "python",
   "name": "python3"
  },
  "language_info": {
   "codemirror_mode": {
    "name": "ipython",
    "version": 3
   },
   "file_extension": ".py",
   "mimetype": "text/x-python",
   "name": "python",
   "nbconvert_exporter": "python",
   "pygments_lexer": "ipython3",
   "version": "3.12.7"
  }
 },
 "nbformat": 4,
 "nbformat_minor": 5
}
